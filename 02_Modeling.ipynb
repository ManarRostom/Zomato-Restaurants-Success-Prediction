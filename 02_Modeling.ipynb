{
 "cells": [
  {
   "cell_type": "markdown",
   "id": "89a0438f",
   "metadata": {},
   "source": [
    "<center><span style=\"color:#b30000;font-size:35px;\"><strong>Modeling Phase</strong></span></center>"
   ]
  },
  {
   "cell_type": "markdown",
   "id": "d679baba",
   "metadata": {},
   "source": [
    "<span style=\"color:#2929a3;font-size:20px;\">Import Libraries</span>"
   ]
  },
  {
   "cell_type": "code",
   "execution_count": 1,
   "id": "1a654a38",
   "metadata": {},
   "outputs": [],
   "source": [
    "import pandas as pd\n",
    "import numpy as np\n",
    "import plotly.express as px\n",
    "from sklearn.preprocessing import StandardScaler, MinMaxScaler, RobustScaler, OneHotEncoder, MultiLabelBinarizer, LabelEncoder\n",
    "from category_encoders import BinaryEncoder\n",
    "from sklearn.pipeline import Pipeline\n",
    "from sklearn.model_selection import cross_validate\n",
    "from sklearn.compose import ColumnTransformer\n",
    "from sklearn.impute import KNNImputer\n",
    "from sklearn.linear_model import LogisticRegression\n",
    "from sklearn.neighbors import KNeighborsClassifier\n",
    "from sklearn.naive_bayes import MultinomialNB, GaussianNB, BernoulliNB\n",
    "from sklearn.svm import SVC\n",
    "from sklearn.tree import DecisionTreeClassifier\n",
    "from sklearn.ensemble import RandomForestClassifier, VotingClassifier\n",
    "from xgboost import XGBClassifier\n",
    "from sklearn.feature_selection import SequentialFeatureSelector"
   ]
  },
  {
   "cell_type": "markdown",
   "id": "e33fe3bb",
   "metadata": {},
   "source": [
    "<span style=\"color:#2929a3;font-size:20px;\">Read Dataset</span>"
   ]
  },
  {
   "cell_type": "code",
   "execution_count": 2,
   "id": "b2b4a633",
   "metadata": {},
   "outputs": [
    {
     "data": {
      "text/html": [
       "<div>\n",
       "<style scoped>\n",
       "    .dataframe tbody tr th:only-of-type {\n",
       "        vertical-align: middle;\n",
       "    }\n",
       "\n",
       "    .dataframe tbody tr th {\n",
       "        vertical-align: top;\n",
       "    }\n",
       "\n",
       "    .dataframe thead tr th {\n",
       "        text-align: left;\n",
       "    }\n",
       "</style>\n",
       "<table border=\"1\" class=\"dataframe\">\n",
       "  <thead>\n",
       "    <tr>\n",
       "      <th></th>\n",
       "      <th colspan=\"8\" halign=\"left\">Original_Columns</th>\n",
       "      <th colspan=\"2\" halign=\"left\">Rest_Type</th>\n",
       "      <th>...</th>\n",
       "      <th colspan=\"3\" halign=\"left\">Cuisines</th>\n",
       "      <th colspan=\"7\" halign=\"left\">Listed_in_Type</th>\n",
       "    </tr>\n",
       "    <tr>\n",
       "      <th></th>\n",
       "      <th>name</th>\n",
       "      <th>online_order</th>\n",
       "      <th>book_table</th>\n",
       "      <th>rate</th>\n",
       "      <th>votes</th>\n",
       "      <th>location</th>\n",
       "      <th>dish_liked</th>\n",
       "      <th>approx_cost(for two people)</th>\n",
       "      <th>Bakery</th>\n",
       "      <th>Bar</th>\n",
       "      <th>...</th>\n",
       "      <th>Vegan</th>\n",
       "      <th>Vietnamese</th>\n",
       "      <th>Wraps</th>\n",
       "      <th>Buffet</th>\n",
       "      <th>Cafes</th>\n",
       "      <th>Delivery</th>\n",
       "      <th>Desserts</th>\n",
       "      <th>Dine-out</th>\n",
       "      <th>Drinks &amp; nightlife</th>\n",
       "      <th>Pubs and bars</th>\n",
       "    </tr>\n",
       "  </thead>\n",
       "  <tbody>\n",
       "    <tr>\n",
       "      <th>0</th>\n",
       "      <td>Jalsa</td>\n",
       "      <td>Yes</td>\n",
       "      <td>Yes</td>\n",
       "      <td>4.1</td>\n",
       "      <td>775.0</td>\n",
       "      <td>Banashankari</td>\n",
       "      <td>Pasta, Lunch Buffet, Masala Papad, Paneer Laja...</td>\n",
       "      <td>800.0</td>\n",
       "      <td>0</td>\n",
       "      <td>0</td>\n",
       "      <td>...</td>\n",
       "      <td>0</td>\n",
       "      <td>0</td>\n",
       "      <td>0</td>\n",
       "      <td>1</td>\n",
       "      <td>0</td>\n",
       "      <td>1</td>\n",
       "      <td>0</td>\n",
       "      <td>1</td>\n",
       "      <td>0</td>\n",
       "      <td>0</td>\n",
       "    </tr>\n",
       "    <tr>\n",
       "      <th>1</th>\n",
       "      <td>Spice Elephant</td>\n",
       "      <td>Yes</td>\n",
       "      <td>No</td>\n",
       "      <td>4.1</td>\n",
       "      <td>787.0</td>\n",
       "      <td>Banashankari</td>\n",
       "      <td>Momos, Lunch Buffet, Chocolate Nirvana, Thai G...</td>\n",
       "      <td>800.0</td>\n",
       "      <td>0</td>\n",
       "      <td>0</td>\n",
       "      <td>...</td>\n",
       "      <td>0</td>\n",
       "      <td>0</td>\n",
       "      <td>0</td>\n",
       "      <td>1</td>\n",
       "      <td>0</td>\n",
       "      <td>1</td>\n",
       "      <td>0</td>\n",
       "      <td>1</td>\n",
       "      <td>0</td>\n",
       "      <td>0</td>\n",
       "    </tr>\n",
       "    <tr>\n",
       "      <th>2</th>\n",
       "      <td>San Churro Cafe</td>\n",
       "      <td>Yes</td>\n",
       "      <td>No</td>\n",
       "      <td>3.8</td>\n",
       "      <td>918.0</td>\n",
       "      <td>Banashankari</td>\n",
       "      <td>Churros, Cannelloni, Minestrone Soup, Hot Choc...</td>\n",
       "      <td>800.0</td>\n",
       "      <td>0</td>\n",
       "      <td>0</td>\n",
       "      <td>...</td>\n",
       "      <td>0</td>\n",
       "      <td>0</td>\n",
       "      <td>0</td>\n",
       "      <td>1</td>\n",
       "      <td>1</td>\n",
       "      <td>1</td>\n",
       "      <td>1</td>\n",
       "      <td>1</td>\n",
       "      <td>0</td>\n",
       "      <td>0</td>\n",
       "    </tr>\n",
       "    <tr>\n",
       "      <th>3</th>\n",
       "      <td>Addhuri Udupi Bhojana</td>\n",
       "      <td>No</td>\n",
       "      <td>No</td>\n",
       "      <td>3.7</td>\n",
       "      <td>88.0</td>\n",
       "      <td>Banashankari</td>\n",
       "      <td>Masala Dosa</td>\n",
       "      <td>300.0</td>\n",
       "      <td>0</td>\n",
       "      <td>0</td>\n",
       "      <td>...</td>\n",
       "      <td>0</td>\n",
       "      <td>0</td>\n",
       "      <td>0</td>\n",
       "      <td>1</td>\n",
       "      <td>0</td>\n",
       "      <td>0</td>\n",
       "      <td>0</td>\n",
       "      <td>1</td>\n",
       "      <td>0</td>\n",
       "      <td>0</td>\n",
       "    </tr>\n",
       "    <tr>\n",
       "      <th>4</th>\n",
       "      <td>Grand Village</td>\n",
       "      <td>No</td>\n",
       "      <td>No</td>\n",
       "      <td>3.8</td>\n",
       "      <td>166.0</td>\n",
       "      <td>Basavanagudi</td>\n",
       "      <td>Panipuri, Gol Gappe</td>\n",
       "      <td>600.0</td>\n",
       "      <td>0</td>\n",
       "      <td>0</td>\n",
       "      <td>...</td>\n",
       "      <td>0</td>\n",
       "      <td>0</td>\n",
       "      <td>0</td>\n",
       "      <td>1</td>\n",
       "      <td>0</td>\n",
       "      <td>0</td>\n",
       "      <td>0</td>\n",
       "      <td>1</td>\n",
       "      <td>0</td>\n",
       "      <td>0</td>\n",
       "    </tr>\n",
       "  </tbody>\n",
       "</table>\n",
       "<p>5 rows × 147 columns</p>\n",
       "</div>"
      ],
      "text/plain": [
       "        Original_Columns                                                    \\\n",
       "                    name online_order book_table rate  votes      location   \n",
       "0                  Jalsa          Yes        Yes  4.1  775.0  Banashankari   \n",
       "1         Spice Elephant          Yes         No  4.1  787.0  Banashankari   \n",
       "2        San Churro Cafe          Yes         No  3.8  918.0  Banashankari   \n",
       "3  Addhuri Udupi Bhojana           No         No  3.7   88.0  Banashankari   \n",
       "4          Grand Village           No         No  3.8  166.0  Basavanagudi   \n",
       "\n",
       "                                                      \\\n",
       "                                          dish_liked   \n",
       "0  Pasta, Lunch Buffet, Masala Papad, Paneer Laja...   \n",
       "1  Momos, Lunch Buffet, Chocolate Nirvana, Thai G...   \n",
       "2  Churros, Cannelloni, Minestrone Soup, Hot Choc...   \n",
       "3                                        Masala Dosa   \n",
       "4                                Panipuri, Gol Gappe   \n",
       "\n",
       "                              Rest_Type      ... Cuisines                   \\\n",
       "  approx_cost(for two people)    Bakery Bar  ...    Vegan Vietnamese Wraps   \n",
       "0                       800.0         0   0  ...        0          0     0   \n",
       "1                       800.0         0   0  ...        0          0     0   \n",
       "2                       800.0         0   0  ...        0          0     0   \n",
       "3                       300.0         0   0  ...        0          0     0   \n",
       "4                       600.0         0   0  ...        0          0     0   \n",
       "\n",
       "  Listed_in_Type                                                      \\\n",
       "          Buffet Cafes Delivery Desserts Dine-out Drinks & nightlife   \n",
       "0              1     0        1        0        1                  0   \n",
       "1              1     0        1        0        1                  0   \n",
       "2              1     1        1        1        1                  0   \n",
       "3              1     0        0        0        1                  0   \n",
       "4              1     0        0        0        1                  0   \n",
       "\n",
       "                 \n",
       "  Pubs and bars  \n",
       "0             0  \n",
       "1             0  \n",
       "2             0  \n",
       "3             0  \n",
       "4             0  \n",
       "\n",
       "[5 rows x 147 columns]"
      ]
     },
     "execution_count": 2,
     "metadata": {},
     "output_type": "execute_result"
    }
   ],
   "source": [
    "df = pd.read_pickle('Data/df_cleanded.pkl')\n",
    "df.head()"
   ]
  },
  {
   "cell_type": "markdown",
   "id": "88ee7d75",
   "metadata": {},
   "source": [
    "<span style=\"color:#2929a3;font-size:20px;\">Check Info</span>"
   ]
  },
  {
   "cell_type": "code",
   "execution_count": 3,
   "id": "5d4e5d05",
   "metadata": {},
   "outputs": [
    {
     "name": "stdout",
     "output_type": "stream",
     "text": [
      "<class 'pandas.core.frame.DataFrame'>\n",
      "RangeIndex: 14118 entries, 0 to 14117\n",
      "Data columns (total 8 columns):\n",
      " #   Column                       Non-Null Count  Dtype  \n",
      "---  ------                       --------------  -----  \n",
      " 0   name                         14118 non-null  object \n",
      " 1   online_order                 14118 non-null  object \n",
      " 2   book_table                   14118 non-null  object \n",
      " 3   rate                         10925 non-null  float64\n",
      " 4   votes                        14118 non-null  float64\n",
      " 5   location                     14118 non-null  object \n",
      " 6   dish_liked                   5435 non-null   object \n",
      " 7   approx_cost(for two people)  14061 non-null  float64\n",
      "dtypes: float64(3), object(5)\n",
      "memory usage: 882.5+ KB\n"
     ]
    }
   ],
   "source": [
    "df['Original_Columns'].info()"
   ]
  },
  {
   "cell_type": "markdown",
   "id": "82f91e04",
   "metadata": {},
   "source": [
    "<span style=\"color:#2929a3;font-size:20px;\">Drop rows that has NaN values in \"rate\" column</span>"
   ]
  },
  {
   "cell_type": "code",
   "execution_count": 4,
   "id": "a279a6c6",
   "metadata": {},
   "outputs": [],
   "source": [
    "df.dropna(subset=[('Original_Columns','rate')], inplace=True)"
   ]
  },
  {
   "cell_type": "code",
   "execution_count": 5,
   "id": "f1c604ec",
   "metadata": {},
   "outputs": [
    {
     "data": {
      "text/plain": [
       "(10925, 147)"
      ]
     },
     "execution_count": 5,
     "metadata": {},
     "output_type": "execute_result"
    }
   ],
   "source": [
    "df.shape"
   ]
  },
  {
   "cell_type": "markdown",
   "id": "87c2b825",
   "metadata": {},
   "source": [
    "<span style=\"color:#2929a3;font-size:20px;\">Create Target Column from Rate Column</span>"
   ]
  },
  {
   "cell_type": "code",
   "execution_count": 6,
   "id": "5601e864",
   "metadata": {},
   "outputs": [],
   "source": [
    "## Create create_target function\n",
    "def create_target(rate):\n",
    "    if rate > 3.75:\n",
    "        return 1\n",
    "    else:\n",
    "        return 0"
   ]
  },
  {
   "cell_type": "code",
   "execution_count": 7,
   "id": "6380be6e",
   "metadata": {},
   "outputs": [],
   "source": [
    "## Create Target Column from rate Column\n",
    "df['Target'] = df[('Original_Columns','rate')].apply(create_target)"
   ]
  },
  {
   "cell_type": "code",
   "execution_count": 8,
   "id": "20a2086b",
   "metadata": {},
   "outputs": [
    {
     "data": {
      "text/plain": [
       "Target\n",
       "0    0.590206\n",
       "1    0.409794\n",
       "Name: proportion, dtype: float64"
      ]
     },
     "execution_count": 8,
     "metadata": {},
     "output_type": "execute_result"
    }
   ],
   "source": [
    "df['Target'].value_counts(normalize=True)"
   ]
  },
  {
   "cell_type": "markdown",
   "id": "7c5d4249",
   "metadata": {},
   "source": [
    "<span style=\"color:#2929a3;font-size:20px;\">Drop Unnecessary Columns</span>"
   ]
  },
  {
   "cell_type": "code",
   "execution_count": 9,
   "id": "78048826",
   "metadata": {},
   "outputs": [],
   "source": [
    "cols_to_drop = ['name','rate','votes','dish_liked']"
   ]
  },
  {
   "cell_type": "code",
   "execution_count": 10,
   "id": "c6b6f02d",
   "metadata": {},
   "outputs": [],
   "source": [
    "for col in cols_to_drop:\n",
    "    df.drop(('Original_Columns',col), axis=1, inplace=True)"
   ]
  },
  {
   "cell_type": "code",
   "execution_count": 11,
   "id": "20473a38",
   "metadata": {},
   "outputs": [
    {
     "data": {
      "text/plain": [
       "1562"
      ]
     },
     "execution_count": 11,
     "metadata": {},
     "output_type": "execute_result"
    }
   ],
   "source": [
    "## Check Duplications\n",
    "df.duplicated().sum()"
   ]
  },
  {
   "cell_type": "code",
   "execution_count": 12,
   "id": "f295b5d2",
   "metadata": {},
   "outputs": [],
   "source": [
    "## Drop Duplications\n",
    "df.drop_duplicates(inplace=True)"
   ]
  },
  {
   "cell_type": "code",
   "execution_count": 13,
   "id": "828105b3",
   "metadata": {},
   "outputs": [],
   "source": [
    "## Drop any missing values\n",
    "df.dropna(inplace=True)"
   ]
  },
  {
   "cell_type": "code",
   "execution_count": 14,
   "id": "cc60db10",
   "metadata": {},
   "outputs": [],
   "source": [
    "## Reset Index\n",
    "df.reset_index(drop=True, inplace=True)"
   ]
  },
  {
   "cell_type": "code",
   "execution_count": 15,
   "id": "3e951e55",
   "metadata": {},
   "outputs": [
    {
     "data": {
      "text/plain": [
       "(9328, 144)"
      ]
     },
     "execution_count": 15,
     "metadata": {},
     "output_type": "execute_result"
    }
   ],
   "source": [
    "## Check Shape\n",
    "df.shape"
   ]
  },
  {
   "cell_type": "markdown",
   "id": "8061b916",
   "metadata": {},
   "source": [
    "<span style=\"color:#2929a3;font-size:20px;\">Check Missing Values</span>"
   ]
  },
  {
   "cell_type": "code",
   "execution_count": 16,
   "id": "2d2617af",
   "metadata": {},
   "outputs": [
    {
     "data": {
      "text/plain": [
       "online_order                   0\n",
       "book_table                     0\n",
       "location                       0\n",
       "approx_cost(for two people)    0\n",
       "dtype: int64"
      ]
     },
     "execution_count": 16,
     "metadata": {},
     "output_type": "execute_result"
    }
   ],
   "source": [
    "df['Original_Columns'].isnull().sum()"
   ]
  },
  {
   "cell_type": "markdown",
   "id": "1b1ddfbb",
   "metadata": {},
   "source": [
    "<span style=\"color:#2929a3;font-size:20px;\">Drop columns of \"Rest_Type\" that has frequency less than 300</span>"
   ]
  },
  {
   "cell_type": "code",
   "execution_count": 17,
   "id": "254a6744",
   "metadata": {},
   "outputs": [],
   "source": [
    "rest_type_series = df['Rest_Type'].sum().sort_values(ascending=False)"
   ]
  },
  {
   "cell_type": "code",
   "execution_count": 18,
   "id": "c8d9836b",
   "metadata": {},
   "outputs": [],
   "source": [
    "Rest_Type_less_300 = rest_type_series[rest_type_series < 300].index.tolist()"
   ]
  },
  {
   "cell_type": "code",
   "execution_count": 19,
   "id": "cf3bf79d",
   "metadata": {},
   "outputs": [],
   "source": [
    "for col in Rest_Type_less_300:\n",
    "    df.drop(('Rest_Type',col), axis=1, inplace=True)"
   ]
  },
  {
   "cell_type": "markdown",
   "id": "d7df4ee1",
   "metadata": {},
   "source": [
    "<span style=\"color:#2929a3;font-size:20px;\">Drop columns of \"Cuisines\" that has frequency less than 300</span>"
   ]
  },
  {
   "cell_type": "code",
   "execution_count": 20,
   "id": "5e83c993",
   "metadata": {},
   "outputs": [],
   "source": [
    "cuisines_series = df['Cuisines'].sum().sort_values(ascending=False)"
   ]
  },
  {
   "cell_type": "code",
   "execution_count": 21,
   "id": "df40be95",
   "metadata": {},
   "outputs": [],
   "source": [
    "cuisines_less_300 = cuisines_series[cuisines_series < 300].index.tolist()"
   ]
  },
  {
   "cell_type": "code",
   "execution_count": 22,
   "id": "8adc6ab4",
   "metadata": {},
   "outputs": [],
   "source": [
    "for col in cuisines_less_300:\n",
    "    df.drop(('Cuisines',col), axis=1, inplace=True)"
   ]
  },
  {
   "cell_type": "code",
   "execution_count": 23,
   "id": "e4505ace",
   "metadata": {},
   "outputs": [
    {
     "data": {
      "text/plain": [
       "(9328, 40)"
      ]
     },
     "execution_count": 23,
     "metadata": {},
     "output_type": "execute_result"
    }
   ],
   "source": [
    "df.shape"
   ]
  },
  {
   "cell_type": "code",
   "execution_count": 24,
   "id": "983dd210",
   "metadata": {},
   "outputs": [
    {
     "data": {
      "text/plain": [
       "135"
      ]
     },
     "execution_count": 24,
     "metadata": {},
     "output_type": "execute_result"
    }
   ],
   "source": [
    "## Check Duplicates\n",
    "df.duplicated().sum()"
   ]
  },
  {
   "cell_type": "code",
   "execution_count": 25,
   "id": "f31148f9",
   "metadata": {},
   "outputs": [],
   "source": [
    "## Drop Duplicates\n",
    "df.drop_duplicates(inplace=True)"
   ]
  },
  {
   "cell_type": "code",
   "execution_count": 26,
   "id": "d870280d",
   "metadata": {},
   "outputs": [],
   "source": [
    "## Reset Index\n",
    "df.reset_index(drop=True, inplace=True)"
   ]
  },
  {
   "cell_type": "code",
   "execution_count": 27,
   "id": "f3bff850",
   "metadata": {},
   "outputs": [
    {
     "data": {
      "text/plain": [
       "(9193, 40)"
      ]
     },
     "execution_count": 27,
     "metadata": {},
     "output_type": "execute_result"
    }
   ],
   "source": [
    "df.shape"
   ]
  },
  {
   "cell_type": "markdown",
   "id": "5088f031",
   "metadata": {},
   "source": [
    "<span style=\"color:#2929a3;font-size:20px;\">Split Data to X and Y</span>"
   ]
  },
  {
   "cell_type": "code",
   "execution_count": 28,
   "id": "166831ea",
   "metadata": {},
   "outputs": [],
   "source": [
    "X = df.drop('Target', axis=1)\n",
    "Y = df['Target']"
   ]
  },
  {
   "cell_type": "code",
   "execution_count": 29,
   "id": "0ad437e0",
   "metadata": {},
   "outputs": [],
   "source": [
    "# Flatten multi-level columns\n",
    "X.columns = ['_'.join(col) for col in X.columns]"
   ]
  },
  {
   "cell_type": "code",
   "execution_count": 32,
   "id": "c92084d5",
   "metadata": {},
   "outputs": [
    {
     "data": {
      "text/html": [
       "<div>\n",
       "<style scoped>\n",
       "    .dataframe tbody tr th:only-of-type {\n",
       "        vertical-align: middle;\n",
       "    }\n",
       "\n",
       "    .dataframe tbody tr th {\n",
       "        vertical-align: top;\n",
       "    }\n",
       "\n",
       "    .dataframe thead th {\n",
       "        text-align: right;\n",
       "    }\n",
       "</style>\n",
       "<table border=\"1\" class=\"dataframe\">\n",
       "  <thead>\n",
       "    <tr style=\"text-align: right;\">\n",
       "      <th></th>\n",
       "      <th>Original_Columns_online_order</th>\n",
       "      <th>Original_Columns_book_table</th>\n",
       "      <th>Original_Columns_location</th>\n",
       "      <th>Original_Columns_approx_cost(for two people)</th>\n",
       "      <th>Rest_Type_Bakery</th>\n",
       "      <th>Rest_Type_Bar</th>\n",
       "      <th>Rest_Type_Beverage Shop</th>\n",
       "      <th>Rest_Type_Cafe</th>\n",
       "      <th>Rest_Type_Casual Dining</th>\n",
       "      <th>Rest_Type_Delivery</th>\n",
       "      <th>...</th>\n",
       "      <th>Cuisines_Seafood</th>\n",
       "      <th>Cuisines_South Indian</th>\n",
       "      <th>Cuisines_Street Food</th>\n",
       "      <th>Listed_in_Type_Buffet</th>\n",
       "      <th>Listed_in_Type_Cafes</th>\n",
       "      <th>Listed_in_Type_Delivery</th>\n",
       "      <th>Listed_in_Type_Desserts</th>\n",
       "      <th>Listed_in_Type_Dine-out</th>\n",
       "      <th>Listed_in_Type_Drinks &amp; nightlife</th>\n",
       "      <th>Listed_in_Type_Pubs and bars</th>\n",
       "    </tr>\n",
       "  </thead>\n",
       "  <tbody>\n",
       "    <tr>\n",
       "      <th>0</th>\n",
       "      <td>Yes</td>\n",
       "      <td>Yes</td>\n",
       "      <td>Banashankari</td>\n",
       "      <td>800.0</td>\n",
       "      <td>0</td>\n",
       "      <td>0</td>\n",
       "      <td>0</td>\n",
       "      <td>0</td>\n",
       "      <td>1</td>\n",
       "      <td>0</td>\n",
       "      <td>...</td>\n",
       "      <td>0</td>\n",
       "      <td>0</td>\n",
       "      <td>0</td>\n",
       "      <td>1</td>\n",
       "      <td>0</td>\n",
       "      <td>1</td>\n",
       "      <td>0</td>\n",
       "      <td>1</td>\n",
       "      <td>0</td>\n",
       "      <td>0</td>\n",
       "    </tr>\n",
       "    <tr>\n",
       "      <th>1</th>\n",
       "      <td>Yes</td>\n",
       "      <td>No</td>\n",
       "      <td>Banashankari</td>\n",
       "      <td>800.0</td>\n",
       "      <td>0</td>\n",
       "      <td>0</td>\n",
       "      <td>0</td>\n",
       "      <td>0</td>\n",
       "      <td>1</td>\n",
       "      <td>0</td>\n",
       "      <td>...</td>\n",
       "      <td>0</td>\n",
       "      <td>0</td>\n",
       "      <td>0</td>\n",
       "      <td>1</td>\n",
       "      <td>0</td>\n",
       "      <td>1</td>\n",
       "      <td>0</td>\n",
       "      <td>1</td>\n",
       "      <td>0</td>\n",
       "      <td>0</td>\n",
       "    </tr>\n",
       "    <tr>\n",
       "      <th>2</th>\n",
       "      <td>Yes</td>\n",
       "      <td>No</td>\n",
       "      <td>Banashankari</td>\n",
       "      <td>800.0</td>\n",
       "      <td>0</td>\n",
       "      <td>0</td>\n",
       "      <td>0</td>\n",
       "      <td>1</td>\n",
       "      <td>1</td>\n",
       "      <td>0</td>\n",
       "      <td>...</td>\n",
       "      <td>0</td>\n",
       "      <td>0</td>\n",
       "      <td>0</td>\n",
       "      <td>1</td>\n",
       "      <td>1</td>\n",
       "      <td>1</td>\n",
       "      <td>1</td>\n",
       "      <td>1</td>\n",
       "      <td>0</td>\n",
       "      <td>0</td>\n",
       "    </tr>\n",
       "  </tbody>\n",
       "</table>\n",
       "<p>3 rows × 39 columns</p>\n",
       "</div>"
      ],
      "text/plain": [
       "  Original_Columns_online_order Original_Columns_book_table  \\\n",
       "0                           Yes                         Yes   \n",
       "1                           Yes                          No   \n",
       "2                           Yes                          No   \n",
       "\n",
       "  Original_Columns_location  Original_Columns_approx_cost(for two people)  \\\n",
       "0              Banashankari                                         800.0   \n",
       "1              Banashankari                                         800.0   \n",
       "2              Banashankari                                         800.0   \n",
       "\n",
       "   Rest_Type_Bakery  Rest_Type_Bar  Rest_Type_Beverage Shop  Rest_Type_Cafe  \\\n",
       "0                 0              0                        0               0   \n",
       "1                 0              0                        0               0   \n",
       "2                 0              0                        0               1   \n",
       "\n",
       "   Rest_Type_Casual Dining  Rest_Type_Delivery  ...  Cuisines_Seafood  \\\n",
       "0                        1                   0  ...                 0   \n",
       "1                        1                   0  ...                 0   \n",
       "2                        1                   0  ...                 0   \n",
       "\n",
       "   Cuisines_South Indian  Cuisines_Street Food  Listed_in_Type_Buffet  \\\n",
       "0                      0                     0                      1   \n",
       "1                      0                     0                      1   \n",
       "2                      0                     0                      1   \n",
       "\n",
       "   Listed_in_Type_Cafes  Listed_in_Type_Delivery  Listed_in_Type_Desserts  \\\n",
       "0                     0                        1                        0   \n",
       "1                     0                        1                        0   \n",
       "2                     1                        1                        1   \n",
       "\n",
       "   Listed_in_Type_Dine-out  Listed_in_Type_Drinks & nightlife  \\\n",
       "0                        1                                  0   \n",
       "1                        1                                  0   \n",
       "2                        1                                  0   \n",
       "\n",
       "   Listed_in_Type_Pubs and bars  \n",
       "0                             0  \n",
       "1                             0  \n",
       "2                             0  \n",
       "\n",
       "[3 rows x 39 columns]"
      ]
     },
     "execution_count": 32,
     "metadata": {},
     "output_type": "execute_result"
    }
   ],
   "source": [
    "X.head(3)"
   ]
  },
  {
   "cell_type": "markdown",
   "id": "cae30e1f",
   "metadata": {},
   "source": [
    "<span style=\"color:#2929a3;font-size:20px;\">Create Preprocessor Column Transformer</span>"
   ]
  },
  {
   "cell_type": "code",
   "execution_count": 514,
   "id": "95b09ca0",
   "metadata": {},
   "outputs": [],
   "source": [
    "preprocessor = ColumnTransformer(transformers=[('Encoder', BinaryEncoder(), ['Original_Columns_online_order','Original_Columns_book_table','Original_Columns_location']),  ('Scaler',RobustScaler(),['Original_Columns_approx_cost(for two people)'])], remainder='passthrough')"
   ]
  },
  {
   "cell_type": "markdown",
   "id": "cbb49f36",
   "metadata": {},
   "source": [
    "<span style=\"color:#2929a3;font-size:20px;\">Model Selection Process</span>"
   ]
  },
  {
   "cell_type": "code",
   "execution_count": 515,
   "id": "ac5332e4",
   "metadata": {},
   "outputs": [],
   "source": [
    "Models = []\n",
    "Models.append(('Logistic Regression',LogisticRegression(max_iter=10000)))\n",
    "Models.append(('Knn',KNeighborsClassifier()))\n",
    "#Models.append(('MultinomialNB',MultinomialNB()))\n",
    "#Models.append(('GaussianNB',GaussianNB()))\n",
    "#Models.append(('BernoulliNB',BernoulliNB()))\n",
    "Models.append(('SVM',SVC()))\n",
    "Models.append(('Decision Tree', DecisionTreeClassifier()))\n",
    "Models.append(('Random Forest',RandomForestClassifier()))\n",
    "Models.append(('Voting Classifier',VotingClassifier(estimators=[('Logistic Regression',LogisticRegression(max_iter=10000)), ('Knn',KNeighborsClassifier()), ('Decision Tree', DecisionTreeClassifier()), ('Random Forest',RandomForestClassifier())])))\n",
    "Models.append(('XGBoost',XGBClassifier()))"
   ]
  },
  {
   "cell_type": "code",
   "execution_count": 516,
   "id": "eaf7ed0d",
   "metadata": {},
   "outputs": [
    {
     "name": "stdout",
     "output_type": "stream",
     "text": [
      "Train Accuracy of Logistic Regression is  0.7098063198817794\n",
      "Test Accuracy of Logistic Regression is  0.6954179809838933\n",
      "**********************************************************************\n",
      "Train Accuracy of Knn is  0.7807026979957169\n",
      "Test Accuracy of Knn is  0.6705103603995405\n",
      "**********************************************************************\n",
      "Train Accuracy of SVM is  0.741107396428864\n",
      "Test Accuracy of SVM is  0.7077106413394705\n",
      "**********************************************************************\n",
      "Train Accuracy of Decision Tree is  0.9714728648347244\n",
      "Test Accuracy of Decision Tree is  0.6112281891386068\n",
      "**********************************************************************\n",
      "Train Accuracy of Random Forest is  0.9714728648347244\n",
      "Test Accuracy of Random Forest is  0.6810619979041929\n",
      "**********************************************************************\n",
      "Train Accuracy of Voting Classifier is  0.8700913999179495\n",
      "Test Accuracy of Voting Classifier is  0.6942241046223139\n",
      "**********************************************************************\n",
      "Train Accuracy of XGBoost is  0.835880453337085\n",
      "Test Accuracy of XGBoost is  0.6943351078464961\n",
      "**********************************************************************\n"
     ]
    }
   ],
   "source": [
    "for model in Models:\n",
    "    steps = []\n",
    "    steps.append(('preprocessor', preprocessor))\n",
    "    #steps.append(('Feature Selector',SequentialFeatureSelector(estimator=model[1], n_features_to_select=40, direction='backward', scoring='accuracy',cv=5,n_jobs=-1)))\n",
    "    steps.append(model)\n",
    "    pipeline = Pipeline(steps=steps)\n",
    "    res = cross_validate(pipeline , X, Y, scoring='accuracy', cv=5, return_train_score=True, n_jobs=-1)\n",
    "    print(f\"Train Accuracy of {model[0]} is \",res['train_score'].mean())\n",
    "    print(f\"Test Accuracy of {model[0]} is \",res['test_score'].mean())\n",
    "    print(\"*\" * 70)"
   ]
  },
  {
   "cell_type": "markdown",
   "id": "f3d30d80",
   "metadata": {},
   "source": [
    "<span style=\"color:#2929a3;font-size:20px;\">Create Random Forest Pipeline</span>"
   ]
  },
  {
   "cell_type": "code",
   "execution_count": 517,
   "id": "312bbd74",
   "metadata": {},
   "outputs": [],
   "source": [
    "steps = []\n",
    "steps.append(('preprocessor',preprocessor))\n",
    "steps.append(('Model',RandomForestClassifier()))\n",
    "pipeline = Pipeline(steps = steps)"
   ]
  },
  {
   "cell_type": "markdown",
   "id": "3992e0c7",
   "metadata": {},
   "source": [
    "<span style=\"color:#2929a3;font-size:20px;\">Hyperparameter Tuning</span>"
   ]
  },
  {
   "cell_type": "code",
   "execution_count": 391,
   "id": "6ce1c1c6",
   "metadata": {},
   "outputs": [],
   "source": [
    "from sklearn.model_selection import GridSearchCV"
   ]
  },
  {
   "cell_type": "code",
   "execution_count": 415,
   "id": "e19afd26",
   "metadata": {},
   "outputs": [],
   "source": [
    "param = [\n",
    "    {'Model__criterion':['gini','entropy'],\n",
    "     'Model__max_depth':[16,17,18],\n",
    "     'Model__min_samples_split':[9,10,11,12],\n",
    "     'Model__n_estimators':[85,90,95]}\n",
    "]"
   ]
  },
  {
   "cell_type": "code",
   "execution_count": 416,
   "id": "b8294050",
   "metadata": {},
   "outputs": [],
   "source": [
    "grid = GridSearchCV(estimator=pipeline, param_grid=param, cv=5, scoring='accuracy' , return_train_score=True, n_jobs=-1)"
   ]
  },
  {
   "cell_type": "code",
   "execution_count": 421,
   "id": "00e4ad2e",
   "metadata": {
    "scrolled": false
   },
   "outputs": [
    {
     "data": {
      "text/html": [
       "<style>#sk-container-id-14 {color: black;background-color: white;}#sk-container-id-14 pre{padding: 0;}#sk-container-id-14 div.sk-toggleable {background-color: white;}#sk-container-id-14 label.sk-toggleable__label {cursor: pointer;display: block;width: 100%;margin-bottom: 0;padding: 0.3em;box-sizing: border-box;text-align: center;}#sk-container-id-14 label.sk-toggleable__label-arrow:before {content: \"▸\";float: left;margin-right: 0.25em;color: #696969;}#sk-container-id-14 label.sk-toggleable__label-arrow:hover:before {color: black;}#sk-container-id-14 div.sk-estimator:hover label.sk-toggleable__label-arrow:before {color: black;}#sk-container-id-14 div.sk-toggleable__content {max-height: 0;max-width: 0;overflow: hidden;text-align: left;background-color: #f0f8ff;}#sk-container-id-14 div.sk-toggleable__content pre {margin: 0.2em;color: black;border-radius: 0.25em;background-color: #f0f8ff;}#sk-container-id-14 input.sk-toggleable__control:checked~div.sk-toggleable__content {max-height: 200px;max-width: 100%;overflow: auto;}#sk-container-id-14 input.sk-toggleable__control:checked~label.sk-toggleable__label-arrow:before {content: \"▾\";}#sk-container-id-14 div.sk-estimator input.sk-toggleable__control:checked~label.sk-toggleable__label {background-color: #d4ebff;}#sk-container-id-14 div.sk-label input.sk-toggleable__control:checked~label.sk-toggleable__label {background-color: #d4ebff;}#sk-container-id-14 input.sk-hidden--visually {border: 0;clip: rect(1px 1px 1px 1px);clip: rect(1px, 1px, 1px, 1px);height: 1px;margin: -1px;overflow: hidden;padding: 0;position: absolute;width: 1px;}#sk-container-id-14 div.sk-estimator {font-family: monospace;background-color: #f0f8ff;border: 1px dotted black;border-radius: 0.25em;box-sizing: border-box;margin-bottom: 0.5em;}#sk-container-id-14 div.sk-estimator:hover {background-color: #d4ebff;}#sk-container-id-14 div.sk-parallel-item::after {content: \"\";width: 100%;border-bottom: 1px solid gray;flex-grow: 1;}#sk-container-id-14 div.sk-label:hover label.sk-toggleable__label {background-color: #d4ebff;}#sk-container-id-14 div.sk-serial::before {content: \"\";position: absolute;border-left: 1px solid gray;box-sizing: border-box;top: 0;bottom: 0;left: 50%;z-index: 0;}#sk-container-id-14 div.sk-serial {display: flex;flex-direction: column;align-items: center;background-color: white;padding-right: 0.2em;padding-left: 0.2em;position: relative;}#sk-container-id-14 div.sk-item {position: relative;z-index: 1;}#sk-container-id-14 div.sk-parallel {display: flex;align-items: stretch;justify-content: center;background-color: white;position: relative;}#sk-container-id-14 div.sk-item::before, #sk-container-id-14 div.sk-parallel-item::before {content: \"\";position: absolute;border-left: 1px solid gray;box-sizing: border-box;top: 0;bottom: 0;left: 50%;z-index: -1;}#sk-container-id-14 div.sk-parallel-item {display: flex;flex-direction: column;z-index: 1;position: relative;background-color: white;}#sk-container-id-14 div.sk-parallel-item:first-child::after {align-self: flex-end;width: 50%;}#sk-container-id-14 div.sk-parallel-item:last-child::after {align-self: flex-start;width: 50%;}#sk-container-id-14 div.sk-parallel-item:only-child::after {width: 0;}#sk-container-id-14 div.sk-dashed-wrapped {border: 1px dashed gray;margin: 0 0.4em 0.5em 0.4em;box-sizing: border-box;padding-bottom: 0.4em;background-color: white;}#sk-container-id-14 div.sk-label label {font-family: monospace;font-weight: bold;display: inline-block;line-height: 1.2em;}#sk-container-id-14 div.sk-label-container {text-align: center;}#sk-container-id-14 div.sk-container {/* jupyter's `normalize.less` sets `[hidden] { display: none; }` but bootstrap.min.css set `[hidden] { display: none !important; }` so we also need the `!important` here to be able to override the default hidden behavior on the sphinx rendered scikit-learn.org. See: https://github.com/scikit-learn/scikit-learn/issues/21755 */display: inline-block !important;position: relative;}#sk-container-id-14 div.sk-text-repr-fallback {display: none;}</style><div id=\"sk-container-id-14\" class=\"sk-top-container\"><div class=\"sk-text-repr-fallback\"><pre>GridSearchCV(cv=5,\n",
       "             estimator=Pipeline(steps=[(&#x27;preprocessor&#x27;,\n",
       "                                        ColumnTransformer(remainder=&#x27;passthrough&#x27;,\n",
       "                                                          transformers=[(&#x27;Encoder&#x27;,\n",
       "                                                                         BinaryEncoder(),\n",
       "                                                                         [&#x27;Original_Columns_online_order&#x27;,\n",
       "                                                                          &#x27;Original_Columns_book_table&#x27;,\n",
       "                                                                          &#x27;Original_Columns_location&#x27;]),\n",
       "                                                                        (&#x27;Scaler&#x27;,\n",
       "                                                                         RobustScaler(),\n",
       "                                                                         [&#x27;Original_Columns_approx_cost(for &#x27;\n",
       "                                                                          &#x27;two &#x27;\n",
       "                                                                          &#x27;people)&#x27;])])),\n",
       "                                       (&#x27;Model&#x27;,\n",
       "                                        RandomForestClassifier(max_depth=17,\n",
       "                                                               min_samples_split=10,\n",
       "                                                               n_estimators=90))]),\n",
       "             n_jobs=-1,\n",
       "             param_grid=[{&#x27;Model__criterion&#x27;: [&#x27;gini&#x27;, &#x27;entropy&#x27;],\n",
       "                          &#x27;Model__max_depth&#x27;: [16, 17, 18],\n",
       "                          &#x27;Model__min_samples_split&#x27;: [9, 10, 11, 12],\n",
       "                          &#x27;Model__n_estimators&#x27;: [85, 90, 95]}],\n",
       "             return_train_score=True, scoring=&#x27;accuracy&#x27;)</pre><b>In a Jupyter environment, please rerun this cell to show the HTML representation or trust the notebook. <br />On GitHub, the HTML representation is unable to render, please try loading this page with nbviewer.org.</b></div><div class=\"sk-container\" hidden><div class=\"sk-item sk-dashed-wrapped\"><div class=\"sk-label-container\"><div class=\"sk-label sk-toggleable\"><input class=\"sk-toggleable__control sk-hidden--visually\" id=\"sk-estimator-id-104\" type=\"checkbox\" ><label for=\"sk-estimator-id-104\" class=\"sk-toggleable__label sk-toggleable__label-arrow\">GridSearchCV</label><div class=\"sk-toggleable__content\"><pre>GridSearchCV(cv=5,\n",
       "             estimator=Pipeline(steps=[(&#x27;preprocessor&#x27;,\n",
       "                                        ColumnTransformer(remainder=&#x27;passthrough&#x27;,\n",
       "                                                          transformers=[(&#x27;Encoder&#x27;,\n",
       "                                                                         BinaryEncoder(),\n",
       "                                                                         [&#x27;Original_Columns_online_order&#x27;,\n",
       "                                                                          &#x27;Original_Columns_book_table&#x27;,\n",
       "                                                                          &#x27;Original_Columns_location&#x27;]),\n",
       "                                                                        (&#x27;Scaler&#x27;,\n",
       "                                                                         RobustScaler(),\n",
       "                                                                         [&#x27;Original_Columns_approx_cost(for &#x27;\n",
       "                                                                          &#x27;two &#x27;\n",
       "                                                                          &#x27;people)&#x27;])])),\n",
       "                                       (&#x27;Model&#x27;,\n",
       "                                        RandomForestClassifier(max_depth=17,\n",
       "                                                               min_samples_split=10,\n",
       "                                                               n_estimators=90))]),\n",
       "             n_jobs=-1,\n",
       "             param_grid=[{&#x27;Model__criterion&#x27;: [&#x27;gini&#x27;, &#x27;entropy&#x27;],\n",
       "                          &#x27;Model__max_depth&#x27;: [16, 17, 18],\n",
       "                          &#x27;Model__min_samples_split&#x27;: [9, 10, 11, 12],\n",
       "                          &#x27;Model__n_estimators&#x27;: [85, 90, 95]}],\n",
       "             return_train_score=True, scoring=&#x27;accuracy&#x27;)</pre></div></div></div><div class=\"sk-parallel\"><div class=\"sk-parallel-item\"><div class=\"sk-item\"><div class=\"sk-label-container\"><div class=\"sk-label sk-toggleable\"><input class=\"sk-toggleable__control sk-hidden--visually\" id=\"sk-estimator-id-105\" type=\"checkbox\" ><label for=\"sk-estimator-id-105\" class=\"sk-toggleable__label sk-toggleable__label-arrow\">estimator: Pipeline</label><div class=\"sk-toggleable__content\"><pre>Pipeline(steps=[(&#x27;preprocessor&#x27;,\n",
       "                 ColumnTransformer(remainder=&#x27;passthrough&#x27;,\n",
       "                                   transformers=[(&#x27;Encoder&#x27;, BinaryEncoder(),\n",
       "                                                  [&#x27;Original_Columns_online_order&#x27;,\n",
       "                                                   &#x27;Original_Columns_book_table&#x27;,\n",
       "                                                   &#x27;Original_Columns_location&#x27;]),\n",
       "                                                 (&#x27;Scaler&#x27;, RobustScaler(),\n",
       "                                                  [&#x27;Original_Columns_approx_cost(for &#x27;\n",
       "                                                   &#x27;two people)&#x27;])])),\n",
       "                (&#x27;Model&#x27;,\n",
       "                 RandomForestClassifier(max_depth=17, min_samples_split=10,\n",
       "                                        n_estimators=90))])</pre></div></div></div><div class=\"sk-serial\"><div class=\"sk-item\"><div class=\"sk-serial\"><div class=\"sk-item sk-dashed-wrapped\"><div class=\"sk-label-container\"><div class=\"sk-label sk-toggleable\"><input class=\"sk-toggleable__control sk-hidden--visually\" id=\"sk-estimator-id-106\" type=\"checkbox\" ><label for=\"sk-estimator-id-106\" class=\"sk-toggleable__label sk-toggleable__label-arrow\">preprocessor: ColumnTransformer</label><div class=\"sk-toggleable__content\"><pre>ColumnTransformer(remainder=&#x27;passthrough&#x27;,\n",
       "                  transformers=[(&#x27;Encoder&#x27;, BinaryEncoder(),\n",
       "                                 [&#x27;Original_Columns_online_order&#x27;,\n",
       "                                  &#x27;Original_Columns_book_table&#x27;,\n",
       "                                  &#x27;Original_Columns_location&#x27;]),\n",
       "                                (&#x27;Scaler&#x27;, RobustScaler(),\n",
       "                                 [&#x27;Original_Columns_approx_cost(for two &#x27;\n",
       "                                  &#x27;people)&#x27;])])</pre></div></div></div><div class=\"sk-parallel\"><div class=\"sk-parallel-item\"><div class=\"sk-item\"><div class=\"sk-label-container\"><div class=\"sk-label sk-toggleable\"><input class=\"sk-toggleable__control sk-hidden--visually\" id=\"sk-estimator-id-107\" type=\"checkbox\" ><label for=\"sk-estimator-id-107\" class=\"sk-toggleable__label sk-toggleable__label-arrow\">Encoder</label><div class=\"sk-toggleable__content\"><pre>[&#x27;Original_Columns_online_order&#x27;, &#x27;Original_Columns_book_table&#x27;, &#x27;Original_Columns_location&#x27;]</pre></div></div></div><div class=\"sk-serial\"><div class=\"sk-item\"><div class=\"sk-estimator sk-toggleable\"><input class=\"sk-toggleable__control sk-hidden--visually\" id=\"sk-estimator-id-108\" type=\"checkbox\" ><label for=\"sk-estimator-id-108\" class=\"sk-toggleable__label sk-toggleable__label-arrow\">BinaryEncoder</label><div class=\"sk-toggleable__content\"><pre>BinaryEncoder()</pre></div></div></div></div></div></div><div class=\"sk-parallel-item\"><div class=\"sk-item\"><div class=\"sk-label-container\"><div class=\"sk-label sk-toggleable\"><input class=\"sk-toggleable__control sk-hidden--visually\" id=\"sk-estimator-id-109\" type=\"checkbox\" ><label for=\"sk-estimator-id-109\" class=\"sk-toggleable__label sk-toggleable__label-arrow\">Scaler</label><div class=\"sk-toggleable__content\"><pre>[&#x27;Original_Columns_approx_cost(for two people)&#x27;]</pre></div></div></div><div class=\"sk-serial\"><div class=\"sk-item\"><div class=\"sk-estimator sk-toggleable\"><input class=\"sk-toggleable__control sk-hidden--visually\" id=\"sk-estimator-id-110\" type=\"checkbox\" ><label for=\"sk-estimator-id-110\" class=\"sk-toggleable__label sk-toggleable__label-arrow\">RobustScaler</label><div class=\"sk-toggleable__content\"><pre>RobustScaler()</pre></div></div></div></div></div></div><div class=\"sk-parallel-item\"><div class=\"sk-item\"><div class=\"sk-label-container\"><div class=\"sk-label sk-toggleable\"><input class=\"sk-toggleable__control sk-hidden--visually\" id=\"sk-estimator-id-111\" type=\"checkbox\" ><label for=\"sk-estimator-id-111\" class=\"sk-toggleable__label sk-toggleable__label-arrow\">remainder</label><div class=\"sk-toggleable__content\"><pre>[&#x27;Rest_Type_Bakery&#x27;, &#x27;Rest_Type_Bar&#x27;, &#x27;Rest_Type_Beverage Shop&#x27;, &#x27;Rest_Type_Cafe&#x27;, &#x27;Rest_Type_Casual Dining&#x27;, &#x27;Rest_Type_Delivery&#x27;, &#x27;Rest_Type_Dessert Parlor&#x27;, &#x27;Rest_Type_Quick Bites&#x27;, &#x27;Rest_Type_Takeaway&#x27;, &#x27;Cuisines_Andhra&#x27;, &#x27;Cuisines_Bakery&#x27;, &#x27;Cuisines_Beverages&#x27;, &#x27;Cuisines_Biryani&#x27;, &#x27;Cuisines_Burger&#x27;, &#x27;Cuisines_Cafe&#x27;, &#x27;Cuisines_Chinese&#x27;, &#x27;Cuisines_Continental&#x27;, &#x27;Cuisines_Desserts&#x27;, &#x27;Cuisines_Fast Food&#x27;, &#x27;Cuisines_Ice Cream&#x27;, &#x27;Cuisines_Italian&#x27;, &#x27;Cuisines_Mughlai&#x27;, &#x27;Cuisines_North Indian&#x27;, &#x27;Cuisines_Pizza&#x27;, &#x27;Cuisines_Rolls&#x27;, &#x27;Cuisines_Seafood&#x27;, &#x27;Cuisines_South Indian&#x27;, &#x27;Cuisines_Street Food&#x27;, &#x27;Listed_in_Type_Buffet&#x27;, &#x27;Listed_in_Type_Cafes&#x27;, &#x27;Listed_in_Type_Delivery&#x27;, &#x27;Listed_in_Type_Desserts&#x27;, &#x27;Listed_in_Type_Dine-out&#x27;, &#x27;Listed_in_Type_Drinks &amp; nightlife&#x27;, &#x27;Listed_in_Type_Pubs and bars&#x27;]</pre></div></div></div><div class=\"sk-serial\"><div class=\"sk-item\"><div class=\"sk-estimator sk-toggleable\"><input class=\"sk-toggleable__control sk-hidden--visually\" id=\"sk-estimator-id-112\" type=\"checkbox\" ><label for=\"sk-estimator-id-112\" class=\"sk-toggleable__label sk-toggleable__label-arrow\">passthrough</label><div class=\"sk-toggleable__content\"><pre>passthrough</pre></div></div></div></div></div></div></div></div><div class=\"sk-item\"><div class=\"sk-estimator sk-toggleable\"><input class=\"sk-toggleable__control sk-hidden--visually\" id=\"sk-estimator-id-113\" type=\"checkbox\" ><label for=\"sk-estimator-id-113\" class=\"sk-toggleable__label sk-toggleable__label-arrow\">RandomForestClassifier</label><div class=\"sk-toggleable__content\"><pre>RandomForestClassifier(max_depth=17, min_samples_split=10, n_estimators=90)</pre></div></div></div></div></div></div></div></div></div></div></div></div>"
      ],
      "text/plain": [
       "GridSearchCV(cv=5,\n",
       "             estimator=Pipeline(steps=[('preprocessor',\n",
       "                                        ColumnTransformer(remainder='passthrough',\n",
       "                                                          transformers=[('Encoder',\n",
       "                                                                         BinaryEncoder(),\n",
       "                                                                         ['Original_Columns_online_order',\n",
       "                                                                          'Original_Columns_book_table',\n",
       "                                                                          'Original_Columns_location']),\n",
       "                                                                        ('Scaler',\n",
       "                                                                         RobustScaler(),\n",
       "                                                                         ['Original_Columns_approx_cost(for '\n",
       "                                                                          'two '\n",
       "                                                                          'people)'])])),\n",
       "                                       ('Model',\n",
       "                                        RandomForestClassifier(max_depth=17,\n",
       "                                                               min_samples_split=10,\n",
       "                                                               n_estimators=90))]),\n",
       "             n_jobs=-1,\n",
       "             param_grid=[{'Model__criterion': ['gini', 'entropy'],\n",
       "                          'Model__max_depth': [16, 17, 18],\n",
       "                          'Model__min_samples_split': [9, 10, 11, 12],\n",
       "                          'Model__n_estimators': [85, 90, 95]}],\n",
       "             return_train_score=True, scoring='accuracy')"
      ]
     },
     "execution_count": 421,
     "metadata": {},
     "output_type": "execute_result"
    }
   ],
   "source": [
    "grid.fit(X,Y)"
   ]
  },
  {
   "cell_type": "code",
   "execution_count": 422,
   "id": "7e187b55",
   "metadata": {},
   "outputs": [
    {
     "data": {
      "text/plain": [
       "{'Model__criterion': 'gini',\n",
       " 'Model__max_depth': 18,\n",
       " 'Model__min_samples_split': 11,\n",
       " 'Model__n_estimators': 90}"
      ]
     },
     "execution_count": 422,
     "metadata": {},
     "output_type": "execute_result"
    }
   ],
   "source": [
    "grid.best_params_"
   ]
  },
  {
   "cell_type": "code",
   "execution_count": 423,
   "id": "c0a956d6",
   "metadata": {},
   "outputs": [
    {
     "data": {
      "text/plain": [
       "0.8094203684431509"
      ]
     },
     "execution_count": 423,
     "metadata": {},
     "output_type": "execute_result"
    }
   ],
   "source": [
    "grid.cv_results_['mean_train_score'][grid.best_index_]"
   ]
  },
  {
   "cell_type": "code",
   "execution_count": 424,
   "id": "9f51df42",
   "metadata": {},
   "outputs": [
    {
     "data": {
      "text/plain": [
       "0.7164137438085821"
      ]
     },
     "execution_count": 424,
     "metadata": {},
     "output_type": "execute_result"
    }
   ],
   "source": [
    "grid.cv_results_['mean_test_score'][grid.best_index_]"
   ]
  },
  {
   "cell_type": "markdown",
   "id": "5b5b9ac2",
   "metadata": {},
   "source": [
    "<span style=\"color:#2929a3;font-size:20px;\">Create Final Pipeline</span>"
   ]
  },
  {
   "cell_type": "code",
   "execution_count": 518,
   "id": "cf9dc2a2",
   "metadata": {},
   "outputs": [
    {
     "data": {
      "text/html": [
       "<style>#sk-container-id-16 {color: black;background-color: white;}#sk-container-id-16 pre{padding: 0;}#sk-container-id-16 div.sk-toggleable {background-color: white;}#sk-container-id-16 label.sk-toggleable__label {cursor: pointer;display: block;width: 100%;margin-bottom: 0;padding: 0.3em;box-sizing: border-box;text-align: center;}#sk-container-id-16 label.sk-toggleable__label-arrow:before {content: \"▸\";float: left;margin-right: 0.25em;color: #696969;}#sk-container-id-16 label.sk-toggleable__label-arrow:hover:before {color: black;}#sk-container-id-16 div.sk-estimator:hover label.sk-toggleable__label-arrow:before {color: black;}#sk-container-id-16 div.sk-toggleable__content {max-height: 0;max-width: 0;overflow: hidden;text-align: left;background-color: #f0f8ff;}#sk-container-id-16 div.sk-toggleable__content pre {margin: 0.2em;color: black;border-radius: 0.25em;background-color: #f0f8ff;}#sk-container-id-16 input.sk-toggleable__control:checked~div.sk-toggleable__content {max-height: 200px;max-width: 100%;overflow: auto;}#sk-container-id-16 input.sk-toggleable__control:checked~label.sk-toggleable__label-arrow:before {content: \"▾\";}#sk-container-id-16 div.sk-estimator input.sk-toggleable__control:checked~label.sk-toggleable__label {background-color: #d4ebff;}#sk-container-id-16 div.sk-label input.sk-toggleable__control:checked~label.sk-toggleable__label {background-color: #d4ebff;}#sk-container-id-16 input.sk-hidden--visually {border: 0;clip: rect(1px 1px 1px 1px);clip: rect(1px, 1px, 1px, 1px);height: 1px;margin: -1px;overflow: hidden;padding: 0;position: absolute;width: 1px;}#sk-container-id-16 div.sk-estimator {font-family: monospace;background-color: #f0f8ff;border: 1px dotted black;border-radius: 0.25em;box-sizing: border-box;margin-bottom: 0.5em;}#sk-container-id-16 div.sk-estimator:hover {background-color: #d4ebff;}#sk-container-id-16 div.sk-parallel-item::after {content: \"\";width: 100%;border-bottom: 1px solid gray;flex-grow: 1;}#sk-container-id-16 div.sk-label:hover label.sk-toggleable__label {background-color: #d4ebff;}#sk-container-id-16 div.sk-serial::before {content: \"\";position: absolute;border-left: 1px solid gray;box-sizing: border-box;top: 0;bottom: 0;left: 50%;z-index: 0;}#sk-container-id-16 div.sk-serial {display: flex;flex-direction: column;align-items: center;background-color: white;padding-right: 0.2em;padding-left: 0.2em;position: relative;}#sk-container-id-16 div.sk-item {position: relative;z-index: 1;}#sk-container-id-16 div.sk-parallel {display: flex;align-items: stretch;justify-content: center;background-color: white;position: relative;}#sk-container-id-16 div.sk-item::before, #sk-container-id-16 div.sk-parallel-item::before {content: \"\";position: absolute;border-left: 1px solid gray;box-sizing: border-box;top: 0;bottom: 0;left: 50%;z-index: -1;}#sk-container-id-16 div.sk-parallel-item {display: flex;flex-direction: column;z-index: 1;position: relative;background-color: white;}#sk-container-id-16 div.sk-parallel-item:first-child::after {align-self: flex-end;width: 50%;}#sk-container-id-16 div.sk-parallel-item:last-child::after {align-self: flex-start;width: 50%;}#sk-container-id-16 div.sk-parallel-item:only-child::after {width: 0;}#sk-container-id-16 div.sk-dashed-wrapped {border: 1px dashed gray;margin: 0 0.4em 0.5em 0.4em;box-sizing: border-box;padding-bottom: 0.4em;background-color: white;}#sk-container-id-16 div.sk-label label {font-family: monospace;font-weight: bold;display: inline-block;line-height: 1.2em;}#sk-container-id-16 div.sk-label-container {text-align: center;}#sk-container-id-16 div.sk-container {/* jupyter's `normalize.less` sets `[hidden] { display: none; }` but bootstrap.min.css set `[hidden] { display: none !important; }` so we also need the `!important` here to be able to override the default hidden behavior on the sphinx rendered scikit-learn.org. See: https://github.com/scikit-learn/scikit-learn/issues/21755 */display: inline-block !important;position: relative;}#sk-container-id-16 div.sk-text-repr-fallback {display: none;}</style><div id=\"sk-container-id-16\" class=\"sk-top-container\"><div class=\"sk-text-repr-fallback\"><pre>Pipeline(steps=[(&#x27;preprocessor&#x27;,\n",
       "                 ColumnTransformer(remainder=&#x27;passthrough&#x27;,\n",
       "                                   transformers=[(&#x27;Encoder&#x27;, BinaryEncoder(),\n",
       "                                                  [&#x27;Original_Columns_online_order&#x27;,\n",
       "                                                   &#x27;Original_Columns_book_table&#x27;,\n",
       "                                                   &#x27;Original_Columns_location&#x27;]),\n",
       "                                                 (&#x27;Scaler&#x27;, RobustScaler(),\n",
       "                                                  [&#x27;Original_Columns_approx_cost(for &#x27;\n",
       "                                                   &#x27;two people)&#x27;])])),\n",
       "                (&#x27;Model&#x27;,\n",
       "                 RandomForestClassifier(max_depth=18, min_samples_split=11,\n",
       "                                        n_estimators=90))])</pre><b>In a Jupyter environment, please rerun this cell to show the HTML representation or trust the notebook. <br />On GitHub, the HTML representation is unable to render, please try loading this page with nbviewer.org.</b></div><div class=\"sk-container\" hidden><div class=\"sk-item sk-dashed-wrapped\"><div class=\"sk-label-container\"><div class=\"sk-label sk-toggleable\"><input class=\"sk-toggleable__control sk-hidden--visually\" id=\"sk-estimator-id-123\" type=\"checkbox\" ><label for=\"sk-estimator-id-123\" class=\"sk-toggleable__label sk-toggleable__label-arrow\">Pipeline</label><div class=\"sk-toggleable__content\"><pre>Pipeline(steps=[(&#x27;preprocessor&#x27;,\n",
       "                 ColumnTransformer(remainder=&#x27;passthrough&#x27;,\n",
       "                                   transformers=[(&#x27;Encoder&#x27;, BinaryEncoder(),\n",
       "                                                  [&#x27;Original_Columns_online_order&#x27;,\n",
       "                                                   &#x27;Original_Columns_book_table&#x27;,\n",
       "                                                   &#x27;Original_Columns_location&#x27;]),\n",
       "                                                 (&#x27;Scaler&#x27;, RobustScaler(),\n",
       "                                                  [&#x27;Original_Columns_approx_cost(for &#x27;\n",
       "                                                   &#x27;two people)&#x27;])])),\n",
       "                (&#x27;Model&#x27;,\n",
       "                 RandomForestClassifier(max_depth=18, min_samples_split=11,\n",
       "                                        n_estimators=90))])</pre></div></div></div><div class=\"sk-serial\"><div class=\"sk-item sk-dashed-wrapped\"><div class=\"sk-label-container\"><div class=\"sk-label sk-toggleable\"><input class=\"sk-toggleable__control sk-hidden--visually\" id=\"sk-estimator-id-124\" type=\"checkbox\" ><label for=\"sk-estimator-id-124\" class=\"sk-toggleable__label sk-toggleable__label-arrow\">preprocessor: ColumnTransformer</label><div class=\"sk-toggleable__content\"><pre>ColumnTransformer(remainder=&#x27;passthrough&#x27;,\n",
       "                  transformers=[(&#x27;Encoder&#x27;, BinaryEncoder(),\n",
       "                                 [&#x27;Original_Columns_online_order&#x27;,\n",
       "                                  &#x27;Original_Columns_book_table&#x27;,\n",
       "                                  &#x27;Original_Columns_location&#x27;]),\n",
       "                                (&#x27;Scaler&#x27;, RobustScaler(),\n",
       "                                 [&#x27;Original_Columns_approx_cost(for two &#x27;\n",
       "                                  &#x27;people)&#x27;])])</pre></div></div></div><div class=\"sk-parallel\"><div class=\"sk-parallel-item\"><div class=\"sk-item\"><div class=\"sk-label-container\"><div class=\"sk-label sk-toggleable\"><input class=\"sk-toggleable__control sk-hidden--visually\" id=\"sk-estimator-id-125\" type=\"checkbox\" ><label for=\"sk-estimator-id-125\" class=\"sk-toggleable__label sk-toggleable__label-arrow\">Encoder</label><div class=\"sk-toggleable__content\"><pre>[&#x27;Original_Columns_online_order&#x27;, &#x27;Original_Columns_book_table&#x27;, &#x27;Original_Columns_location&#x27;]</pre></div></div></div><div class=\"sk-serial\"><div class=\"sk-item\"><div class=\"sk-estimator sk-toggleable\"><input class=\"sk-toggleable__control sk-hidden--visually\" id=\"sk-estimator-id-126\" type=\"checkbox\" ><label for=\"sk-estimator-id-126\" class=\"sk-toggleable__label sk-toggleable__label-arrow\">BinaryEncoder</label><div class=\"sk-toggleable__content\"><pre>BinaryEncoder()</pre></div></div></div></div></div></div><div class=\"sk-parallel-item\"><div class=\"sk-item\"><div class=\"sk-label-container\"><div class=\"sk-label sk-toggleable\"><input class=\"sk-toggleable__control sk-hidden--visually\" id=\"sk-estimator-id-127\" type=\"checkbox\" ><label for=\"sk-estimator-id-127\" class=\"sk-toggleable__label sk-toggleable__label-arrow\">Scaler</label><div class=\"sk-toggleable__content\"><pre>[&#x27;Original_Columns_approx_cost(for two people)&#x27;]</pre></div></div></div><div class=\"sk-serial\"><div class=\"sk-item\"><div class=\"sk-estimator sk-toggleable\"><input class=\"sk-toggleable__control sk-hidden--visually\" id=\"sk-estimator-id-128\" type=\"checkbox\" ><label for=\"sk-estimator-id-128\" class=\"sk-toggleable__label sk-toggleable__label-arrow\">RobustScaler</label><div class=\"sk-toggleable__content\"><pre>RobustScaler()</pre></div></div></div></div></div></div><div class=\"sk-parallel-item\"><div class=\"sk-item\"><div class=\"sk-label-container\"><div class=\"sk-label sk-toggleable\"><input class=\"sk-toggleable__control sk-hidden--visually\" id=\"sk-estimator-id-129\" type=\"checkbox\" ><label for=\"sk-estimator-id-129\" class=\"sk-toggleable__label sk-toggleable__label-arrow\">remainder</label><div class=\"sk-toggleable__content\"><pre>[&#x27;Rest_Type_Bakery&#x27;, &#x27;Rest_Type_Bar&#x27;, &#x27;Rest_Type_Beverage Shop&#x27;, &#x27;Rest_Type_Cafe&#x27;, &#x27;Rest_Type_Casual Dining&#x27;, &#x27;Rest_Type_Delivery&#x27;, &#x27;Rest_Type_Dessert Parlor&#x27;, &#x27;Rest_Type_Quick Bites&#x27;, &#x27;Rest_Type_Takeaway&#x27;, &#x27;Cuisines_Andhra&#x27;, &#x27;Cuisines_Bakery&#x27;, &#x27;Cuisines_Beverages&#x27;, &#x27;Cuisines_Biryani&#x27;, &#x27;Cuisines_Burger&#x27;, &#x27;Cuisines_Cafe&#x27;, &#x27;Cuisines_Chinese&#x27;, &#x27;Cuisines_Continental&#x27;, &#x27;Cuisines_Desserts&#x27;, &#x27;Cuisines_Fast Food&#x27;, &#x27;Cuisines_Ice Cream&#x27;, &#x27;Cuisines_Italian&#x27;, &#x27;Cuisines_Mughlai&#x27;, &#x27;Cuisines_North Indian&#x27;, &#x27;Cuisines_Pizza&#x27;, &#x27;Cuisines_Rolls&#x27;, &#x27;Cuisines_Seafood&#x27;, &#x27;Cuisines_South Indian&#x27;, &#x27;Cuisines_Street Food&#x27;, &#x27;Listed_in_Type_Buffet&#x27;, &#x27;Listed_in_Type_Cafes&#x27;, &#x27;Listed_in_Type_Delivery&#x27;, &#x27;Listed_in_Type_Desserts&#x27;, &#x27;Listed_in_Type_Dine-out&#x27;, &#x27;Listed_in_Type_Drinks &amp; nightlife&#x27;, &#x27;Listed_in_Type_Pubs and bars&#x27;]</pre></div></div></div><div class=\"sk-serial\"><div class=\"sk-item\"><div class=\"sk-estimator sk-toggleable\"><input class=\"sk-toggleable__control sk-hidden--visually\" id=\"sk-estimator-id-130\" type=\"checkbox\" ><label for=\"sk-estimator-id-130\" class=\"sk-toggleable__label sk-toggleable__label-arrow\">passthrough</label><div class=\"sk-toggleable__content\"><pre>passthrough</pre></div></div></div></div></div></div></div></div><div class=\"sk-item\"><div class=\"sk-estimator sk-toggleable\"><input class=\"sk-toggleable__control sk-hidden--visually\" id=\"sk-estimator-id-131\" type=\"checkbox\" ><label for=\"sk-estimator-id-131\" class=\"sk-toggleable__label sk-toggleable__label-arrow\">RandomForestClassifier</label><div class=\"sk-toggleable__content\"><pre>RandomForestClassifier(max_depth=18, min_samples_split=11, n_estimators=90)</pre></div></div></div></div></div></div></div>"
      ],
      "text/plain": [
       "Pipeline(steps=[('preprocessor',\n",
       "                 ColumnTransformer(remainder='passthrough',\n",
       "                                   transformers=[('Encoder', BinaryEncoder(),\n",
       "                                                  ['Original_Columns_online_order',\n",
       "                                                   'Original_Columns_book_table',\n",
       "                                                   'Original_Columns_location']),\n",
       "                                                 ('Scaler', RobustScaler(),\n",
       "                                                  ['Original_Columns_approx_cost(for '\n",
       "                                                   'two people)'])])),\n",
       "                ('Model',\n",
       "                 RandomForestClassifier(max_depth=18, min_samples_split=11,\n",
       "                                        n_estimators=90))])"
      ]
     },
     "execution_count": 518,
     "metadata": {},
     "output_type": "execute_result"
    }
   ],
   "source": [
    "steps = []\n",
    "steps.append(('preprocessor',preprocessor))\n",
    "steps.append(('Model',RandomForestClassifier(n_estimators=90, criterion='gini', max_depth=18, min_samples_split=11)))\n",
    "pipeline = Pipeline(steps = steps)\n",
    "pipeline.fit(X,Y)"
   ]
  },
  {
   "cell_type": "markdown",
   "id": "5f51d69e",
   "metadata": {},
   "source": [
    "<span style=\"color:#2929a3;font-size:20px;\">Dump Model and Inputs</span>"
   ]
  },
  {
   "cell_type": "code",
   "execution_count": 519,
   "id": "0d567923",
   "metadata": {},
   "outputs": [],
   "source": [
    "inputs_dict = {}\n",
    "inputs_dict['columns_names'] = X.columns.tolist()[:4]\n",
    "inputs_dict['Rest_Type_Cols'] = df['Rest_Type'].columns.tolist()\n",
    "inputs_dict['Cuisines_Cols'] = df['Cuisines'].columns.tolist()\n",
    "inputs_dict['Listed_in_Type'] = df['Listed_in_Type'].columns.tolist()\n",
    "inputs_dict['Location'] = df[('Original_Columns','location')].unique().tolist()"
   ]
  },
  {
   "cell_type": "code",
   "execution_count": 520,
   "id": "37cbeb7c",
   "metadata": {},
   "outputs": [
    {
     "data": {
      "text/plain": [
       "['Data/Model.pkl']"
      ]
     },
     "execution_count": 520,
     "metadata": {},
     "output_type": "execute_result"
    }
   ],
   "source": [
    "import joblib\n",
    "joblib.dump(inputs_dict,'Data/inputs_dict.pkl')\n",
    "joblib.dump(pipeline,'Data/Model.pkl')"
   ]
  }
 ],
 "metadata": {
  "kernelspec": {
   "display_name": "Python 3 (ipykernel)",
   "language": "python",
   "name": "python3"
  },
  "language_info": {
   "codemirror_mode": {
    "name": "ipython",
    "version": 3
   },
   "file_extension": ".py",
   "mimetype": "text/x-python",
   "name": "python",
   "nbconvert_exporter": "python",
   "pygments_lexer": "ipython3",
   "version": "3.10.8"
  }
 },
 "nbformat": 4,
 "nbformat_minor": 5
}
