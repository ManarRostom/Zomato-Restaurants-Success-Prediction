{
 "cells": [
  {
   "cell_type": "markdown",
   "id": "89fbb993",
   "metadata": {},
   "source": [
    "<center><span style=\"color:#b30000;font-size:35px;\"><strong>Deployment Phase</strong></span></center>"
   ]
  },
  {
   "cell_type": "markdown",
   "id": "a520cbdd",
   "metadata": {},
   "source": [
    "<span style=\"color:#2929a3;font-size:20px;\">Streamlit Cloud Link</span>"
   ]
  },
  {
   "cell_type": "markdown",
   "id": "c51b90fe",
   "metadata": {},
   "source": [
    "## https://zomato-afewuajkfjd7tqrewhh8xp.streamlit.app/"
   ]
  },
  {
   "cell_type": "markdown",
   "id": "aa494beb",
   "metadata": {},
   "source": [
    "<span style=\"color:#2929a3;font-size:20px;\">Deployment Code</span>"
   ]
  },
  {
   "cell_type": "code",
   "execution_count": 74,
   "id": "a4978bc8",
   "metadata": {},
   "outputs": [
    {
     "name": "stdout",
     "output_type": "stream",
     "text": [
      "Overwriting Deployment.py\n"
     ]
    }
   ],
   "source": [
    "%%writefile Deployment.py\n",
    "\n",
    "import streamlit as st\n",
    "import numpy as np\n",
    "import joblib \n",
    "import pandas as pd\n",
    "import sklearn\n",
    "import category_encoders\n",
    "\n",
    "inputs_dict = joblib.load('Data/inputs_dict.pkl')\n",
    "Model = joblib.load('Data/Model.pkl')\n",
    "mlb_dict = joblib.load('Data/mlb_dict.pkl')\n",
    "\n",
    "def encode_cats(df_cats):\n",
    "    rest_type_df = pd.DataFrame(mlb_dict['mlb_rest_type'].transform(df_cats['rest_type']), columns=mlb_dict['mlb_rest_type'].classes_)\n",
    "    rest_type_df = rest_type_df[inputs_dict['Rest_Type_Cols']]\n",
    "    rest_type_df.columns = ['Rest_Type_' + col for col in rest_type_df.columns]\n",
    "    \n",
    "    cuisines_df = pd.DataFrame(mlb_dict['mlb_cuisines'].transform(df_cats['cuisines']), columns=mlb_dict['mlb_cuisines'].classes_)\n",
    "    cuisines_df = cuisines_df[inputs_dict['Cuisines_Cols']]\n",
    "    cuisines_df.columns = ['Cuisines_' + col for col in  cuisines_df.columns]\n",
    "\n",
    "        \n",
    "    listed_type_df = pd.DataFrame(mlb_dict['mlb_type'].transform(df_cats['listed_type']), columns=mlb_dict['mlb_type'].classes_)\n",
    "    listed_type_df = listed_type_df[inputs_dict['Listed_in_Type']]\n",
    "    listed_type_df.columns = ['Listed_in_Type_' + col for col in listed_type_df.columns]\n",
    "    \n",
    "    df = pd.concat([rest_type_df, cuisines_df, listed_type_df], axis=1)\n",
    "    return df\n",
    "    \n",
    "def Prediction(online_order, book_table, location, approx_cost, rest_type, cuisines, listed_type):\n",
    "    ## Create df_test\n",
    "    df_test = pd.DataFrame(columns=inputs_dict['columns_names'])\n",
    "    df_test.at[0,'Original_Columns_online_order'] = online_order\n",
    "    df_test.at[0,'Original_Columns_book_table'] = book_table\n",
    "    df_test.at[0,'Original_Columns_location'] = location\n",
    "    df_test.at[0,'Original_Columns_approx_cost(for two people)'] = approx_cost\n",
    "    \n",
    "    ## Create df_cats\n",
    "    df_cats = pd.DataFrame(columns=['rest_type','cuisines','listed_type'])\n",
    "    df_cats.at[0,'rest_type'] = rest_type\n",
    "    df_cats.at[0,'cuisines'] = cuisines\n",
    "    df_cats.at[0,'listed_type'] = listed_type\n",
    "    ## Call encode_cats Function\n",
    "    encoded_df = encode_cats(df_cats)\n",
    "    df_test2 = pd.concat([df_test,encoded_df], axis=1)\n",
    "    return Model.predict(df_test2)[0]\n",
    "\n",
    "\n",
    "def Main():\n",
    "    \n",
    "    st.markdown('<p style=\"font-size:50px;text-align:center;\"><strong>Predict New Restaurant Success in Bangalore</strong></p>',unsafe_allow_html=True)\n",
    "    col1_1 , col1_2 = st.columns([2,2]) \n",
    "    col2_1 , col2_2 = st.columns([2,2])\n",
    "    col3_1 , col3_2 = st.columns([2,2])\n",
    "    col4_1 , col4_2 = st.columns([2,2])\n",
    "    \n",
    "    with col1_1:\n",
    "        online_order = st.selectbox('Is your restaurant offers Online orders : ', ['Yes','No'])\n",
    "    with col1_2:\n",
    "        book_table = st.selectbox('Is your restaurant offers Booking tables : ', ['Yes','No'])\n",
    "        \n",
    "    with col2_1:    \n",
    "        location = st.selectbox('Select Location of your restaurant : ', inputs_dict['Location'])\n",
    "    with col2_2:\n",
    "        approx_cost = st.slider(label='What is the approximate cost for two people : ', value=1000, step=100, min_value=10, max_value=10000)\n",
    "        \n",
    "    with col3_1:    \n",
    "        rest_type = st.multiselect('Select type of you restaurant : ', inputs_dict['Rest_Type_Cols'])\n",
    "    with col3_2:\n",
    "        cuisines = st.multiselect('Select the cuisines available at your restaurant  : ', inputs_dict['Cuisines_Cols'])\n",
    "        \n",
    "    with col4_1:\n",
    "        listed_type = st.multiselect('Select category type of your restaurant',inputs_dict['Listed_in_Type'])\n",
    "    with col4_2:\n",
    "        st.text('')\n",
    "        st.text('')\n",
    "        if st.button(\"Predict\"):\n",
    "            res = Prediction(online_order, book_table, location, approx_cost, rest_type, cuisines, listed_type)\n",
    "            if res == 1:\n",
    "                model_prediction = \"Will Successed\"\n",
    "            else:\n",
    "                model_prediction = \"Will not Successed\"\n",
    "\n",
    "            st.write(f\"We predict that your restaurant {model_prediction}\")\n",
    "Main()        "
   ]
  },
  {
   "cell_type": "code",
   "execution_count": null,
   "id": "048ec6d6",
   "metadata": {},
   "outputs": [],
   "source": []
  }
 ],
 "metadata": {
  "kernelspec": {
   "display_name": "Python 3 (ipykernel)",
   "language": "python",
   "name": "python3"
  },
  "language_info": {
   "codemirror_mode": {
    "name": "ipython",
    "version": 3
   },
   "file_extension": ".py",
   "mimetype": "text/x-python",
   "name": "python",
   "nbconvert_exporter": "python",
   "pygments_lexer": "ipython3",
   "version": "3.10.8"
  }
 },
 "nbformat": 4,
 "nbformat_minor": 5
}
